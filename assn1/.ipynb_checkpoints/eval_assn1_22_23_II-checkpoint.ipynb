{
 "cells": [
  {
   "cell_type": "code",
   "execution_count": 1,
   "metadata": {
    "id": "l2NoAdC5g4bX"
   },
   "outputs": [],
   "source": [
    "import numpy as np\n",
    "from submit import my_fit\n",
    "from submit import my_predict\n",
    "import time as tm\n",
    "import pickle\n",
    "import os\n",
    "import sklearn\n",
    "from collections import defaultdict\n",
    "from sklearn.linear_model import LogisticRegression"
   ]
  },
  {
   "cell_type": "code",
   "execution_count": 2,
   "metadata": {
    "colab": {
     "base_uri": "https://localhost:8080/",
     "height": 380
    },
    "id": "tqlRxQX_g_jw",
    "outputId": "a4f31284-93e9-4187-94cd-83d57f477d86"
   },
   "outputs": [],
   "source": [
    "R = 64\n",
    "S = 4\n",
    "\n",
    "Z_trn = np.loadtxt( \"secret_train.dat\" )\n",
    "Z_tst = np.loadtxt( \"secret_test.dat\" )\n",
    "\n",
    "n_trials = 5\n",
    "\n",
    "t_train = 0\n",
    "m_size = 0\n",
    "t_test = 0\n",
    "acc = 0"
   ]
  },
  {
   "cell_type": "code",
   "execution_count": 3,
   "metadata": {
    "colab": {
     "base_uri": "https://localhost:8080/"
    },
    "id": "0LqLNUdUhEbu",
    "outputId": "e335d37c-4ea1-48d1-f414-c64358a10aa0"
   },
   "outputs": [
    {
     "name": "stdout",
     "output_type": "stream",
     "text": [
      "0.796078431372549\n",
      "0.7043650793650794\n",
      "0.7169811320754716\n",
      "0.7265469061876247\n",
      "0.6893203883495146\n",
      "0.9079754601226994\n",
      "0.8467583497053045\n",
      "0.673866090712743\n",
      "0.94\n",
      "0.8775100401606426\n",
      "0.731006160164271\n",
      "0.6475247524752475\n",
      "0.6533066132264529\n",
      "0.7701612903225806\n",
      "0.9403292181069959\n",
      "0.8330019880715706\n",
      "0.7218934911242604\n",
      "0.9145631067961165\n",
      "0.7655310621242485\n",
      "0.9571428571428572\n",
      "0.6108786610878661\n",
      "0.9633620689655172\n",
      "0.8035714285714286\n",
      "0.8023483365949119\n",
      "0.9536679536679536\n",
      "0.6836734693877551\n",
      "0.636\n",
      "0.9065040650406504\n",
      "0.8049242424242424\n",
      "0.6424361493123772\n",
      "0.8662551440329218\n",
      "0.8592321755027422\n",
      "0.9019607843137255\n",
      "0.8187134502923976\n",
      "0.9107142857142857\n",
      "0.7813765182186235\n",
      "0.8785578747628083\n",
      "0.6591836734693878\n",
      "0.6928838951310862\n",
      "0.9621212121212122\n",
      "0.9858012170385395\n",
      "0.6271844660194175\n",
      "0.6633663366336634\n",
      "0.926829268292683\n",
      "0.9656565656565657\n",
      "0.6639344262295082\n",
      "0.7716701902748414\n",
      "0.6242990654205608\n",
      "0.9106463878326996\n",
      "0.8020408163265306\n",
      "0.9254302103250478\n",
      "0.8118393234672304\n",
      "0.684931506849315\n",
      "0.9645669291338582\n",
      "0.7958762886597938\n",
      "0.9641509433962264\n",
      "0.7436893203883496\n",
      "0.7920997920997921\n",
      "0.7214428857715431\n",
      "0.6207513416815742\n",
      "0.8472803347280334\n",
      "0.788235294117647\n",
      "0.6895910780669146\n",
      "0.7105263157894737\n",
      "0.7841140529531568\n",
      "0.8061420345489443\n",
      "0.8837209302325582\n",
      "0.8987068965517241\n",
      "0.9288617886178862\n",
      "0.69\n",
      "0.6447876447876448\n",
      "0.6619433198380567\n",
      "0.9490566037735849\n",
      "0.9159663865546218\n",
      "0.9173387096774194\n",
      "0.8455882352941176\n",
      "0.6647058823529411\n",
      "0.762396694214876\n",
      "0.952\n",
      "0.6475770925110133\n",
      "0.7505197505197505\n",
      "0.6767676767676768\n",
      "0.9465811965811965\n",
      "0.7995951417004049\n",
      "0.9582504970178927\n",
      "0.762\n",
      "0.7744034707158352\n",
      "0.6561844863731656\n",
      "0.8228346456692913\n",
      "0.6532258064516129\n",
      "0.8808080808080808\n",
      "0.6925925925925925\n",
      "0.9425742574257425\n",
      "0.9261477045908184\n",
      "0.8663967611336032\n",
      "0.639511201629328\n",
      "0.9598470363288719\n",
      "0.6739562624254473\n",
      "0.7953091684434968\n",
      "0.6638830897703549\n",
      "0.9735099337748344\n",
      "0.811284046692607\n",
      "0.7874186550976139\n",
      "0.9721115537848606\n",
      "0.7944954128440367\n",
      "0.8762677484787018\n",
      "0.9204545454545454\n",
      "0.7205240174672489\n",
      "0.9882121807465619\n",
      "0.8146551724137931\n",
      "0.9810126582278481\n",
      "0.7047413793103449\n",
      "0.665948275862069\n",
      "0.6431297709923665\n",
      "0.6463414634146342\n",
      "0.672\n",
      "0.922365988909427\n",
      "0.9172932330827067\n",
      "0.9031007751937985\n",
      "0.8028169014084507\n"
     ]
    },
    {
     "ename": "ValueError",
     "evalue": "The truth value of an array with more than one element is ambiguous. Use a.any() or a.all()",
     "output_type": "error",
     "traceback": [
      "\u001b[1;31m---------------------------------------------------------------------------\u001b[0m",
      "\u001b[1;31mValueError\u001b[0m                                Traceback (most recent call last)",
      "Cell \u001b[1;32mIn[3], line 13\u001b[0m\n\u001b[0;32m     10\u001b[0m m_size \u001b[38;5;241m+\u001b[39m\u001b[38;5;241m=\u001b[39m os\u001b[38;5;241m.\u001b[39mpath\u001b[38;5;241m.\u001b[39mgetsize( \u001b[38;5;124mf\u001b[39m\u001b[38;5;124m\"\u001b[39m\u001b[38;5;124mmodel_dump_\u001b[39m\u001b[38;5;132;01m{\u001b[39;00mt\u001b[38;5;132;01m}\u001b[39;00m\u001b[38;5;124m.pkl\u001b[39m\u001b[38;5;124m\"\u001b[39m )\n\u001b[0;32m     12\u001b[0m tic \u001b[38;5;241m=\u001b[39m tm\u001b[38;5;241m.\u001b[39mperf_counter()\n\u001b[1;32m---> 13\u001b[0m pred \u001b[38;5;241m=\u001b[39m \u001b[43mmy_predict\u001b[49m\u001b[43m(\u001b[49m\u001b[43m \u001b[49m\u001b[43mZ_tst\u001b[49m\u001b[43m[\u001b[49m\u001b[43m:\u001b[49m\u001b[43m,\u001b[49m\u001b[43m \u001b[49m\u001b[43m:\u001b[49m\u001b[38;5;241;43m-\u001b[39;49m\u001b[38;5;241;43m1\u001b[39;49m\u001b[43m]\u001b[49m\u001b[43m,\u001b[49m\u001b[43m \u001b[49m\u001b[43mmodel\u001b[49m\u001b[43m \u001b[49m\u001b[43m)\u001b[49m\n\u001b[0;32m     14\u001b[0m toc \u001b[38;5;241m=\u001b[39m tm\u001b[38;5;241m.\u001b[39mperf_counter()\n\u001b[0;32m     15\u001b[0m t_test \u001b[38;5;241m+\u001b[39m\u001b[38;5;241m=\u001b[39m toc \u001b[38;5;241m-\u001b[39m tic\n",
      "File \u001b[1;32m~\\Desktop\\CS771\\assn1\\submit.py:82\u001b[0m, in \u001b[0;36mmy_predict\u001b[1;34m(X_tst, model)\u001b[0m\n\u001b[0;32m     80\u001b[0m a \u001b[38;5;241m=\u001b[39m X_tst[\u001b[38;5;241m64\u001b[39m:\u001b[38;5;241m68\u001b[39m]\n\u001b[0;32m     81\u001b[0m b \u001b[38;5;241m=\u001b[39m X_tst[\u001b[38;5;241m68\u001b[39m:\u001b[38;5;241m72\u001b[39m]\n\u001b[1;32m---> 82\u001b[0m i, j, flag \u001b[38;5;241m=\u001b[39m \u001b[43mcompare1\u001b[49m\u001b[43m(\u001b[49m\u001b[43ma\u001b[49m\u001b[43m,\u001b[49m\u001b[43m \u001b[49m\u001b[43mb\u001b[49m\u001b[43m)\u001b[49m\n\u001b[0;32m     83\u001b[0m m1 \u001b[38;5;241m=\u001b[39m \u001b[38;5;28mmin\u001b[39m(\u001b[38;5;28mint\u001b[39m(i), \u001b[38;5;28mint\u001b[39m(j))\n\u001b[0;32m     84\u001b[0m m2 \u001b[38;5;241m=\u001b[39m \u001b[38;5;28mmax\u001b[39m(\u001b[38;5;28mint\u001b[39m(i), \u001b[38;5;28mint\u001b[39m(j))\n",
      "File \u001b[1;32m~\\Desktop\\CS771\\assn1\\submit.py:23\u001b[0m, in \u001b[0;36mcompare1\u001b[1;34m(a, b)\u001b[0m\n\u001b[0;32m     20\u001b[0m n1 \u001b[38;5;241m=\u001b[39m \u001b[38;5;241m1\u001b[39m\u001b[38;5;241m*\u001b[39ma[\u001b[38;5;241m3\u001b[39m] \u001b[38;5;241m+\u001b[39m \u001b[38;5;241m2\u001b[39m\u001b[38;5;241m*\u001b[39ma[\u001b[38;5;241m2\u001b[39m] \u001b[38;5;241m+\u001b[39m \u001b[38;5;241m4\u001b[39m\u001b[38;5;241m*\u001b[39ma[\u001b[38;5;241m1\u001b[39m] \u001b[38;5;241m+\u001b[39m \u001b[38;5;241m8\u001b[39m\u001b[38;5;241m*\u001b[39ma[\u001b[38;5;241m0\u001b[39m]\n\u001b[0;32m     21\u001b[0m n2 \u001b[38;5;241m=\u001b[39m \u001b[38;5;241m1\u001b[39m\u001b[38;5;241m*\u001b[39mb[\u001b[38;5;241m3\u001b[39m] \u001b[38;5;241m+\u001b[39m \u001b[38;5;241m2\u001b[39m\u001b[38;5;241m*\u001b[39mb[\u001b[38;5;241m2\u001b[39m] \u001b[38;5;241m+\u001b[39m \u001b[38;5;241m4\u001b[39m\u001b[38;5;241m*\u001b[39mb[\u001b[38;5;241m1\u001b[39m] \u001b[38;5;241m+\u001b[39m \u001b[38;5;241m8\u001b[39m\u001b[38;5;241m*\u001b[39mb[\u001b[38;5;241m0\u001b[39m]\n\u001b[1;32m---> 23\u001b[0m res \u001b[38;5;241m=\u001b[39m \u001b[38;5;241m1\u001b[39m \u001b[38;5;28;01mif\u001b[39;00m n1 \u001b[38;5;241m>\u001b[39m n2 \u001b[38;5;28;01melse\u001b[39;00m \u001b[38;5;241m0\u001b[39m\n\u001b[0;32m     24\u001b[0m \u001b[38;5;28;01mreturn\u001b[39;00m (n1, n2, res)\n",
      "\u001b[1;31mValueError\u001b[0m: The truth value of an array with more than one element is ambiguous. Use a.any() or a.all()"
     ]
    }
   ],
   "source": [
    "for t in range( n_trials ):\n",
    "\ttic = tm.perf_counter()\n",
    "\tmodel = my_fit( Z_trn )\n",
    "\ttoc = tm.perf_counter()\n",
    "\tt_train += toc - tic\n",
    "\n",
    "\twith open( f\"model_dump_{t}.pkl\", \"wb\" ) as outfile:\n",
    "\t\tpickle.dump( model, outfile, protocol=pickle.HIGHEST_PROTOCOL )\n",
    "\t\n",
    "\tm_size += os.path.getsize( f\"model_dump_{t}.pkl\" )\n",
    "\t\n",
    "\ttic = tm.perf_counter()\n",
    "\tpred = my_predict( Z_tst[:, :-1], model )\n",
    "\ttoc = tm.perf_counter()\n",
    "\tt_test += toc - tic\n",
    "\t\n",
    "\tacc += np.average( Z_tst[ :, -1 ] == pred )"
   ]
  },
  {
   "cell_type": "code",
   "execution_count": null,
   "metadata": {
    "colab": {
     "base_uri": "https://localhost:8080/"
    },
    "id": "o38Djo7KhIAF",
    "outputId": "ea1345f6-d95e-4e4c-97e8-3bd6f13b60c8"
   },
   "outputs": [],
   "source": [
    "t_train /= n_trials\n",
    "t_test /= n_trials\n",
    "m_size /= n_trials\n",
    "acc /= n_trials\n",
    "\n",
    "print( t_train, t_test, m_size, acc )"
   ]
  }
 ],
 "metadata": {
  "colab": {
   "provenance": []
  },
  "kernelspec": {
   "display_name": "Python 3 (ipykernel)",
   "language": "python",
   "name": "python3"
  },
  "language_info": {
   "codemirror_mode": {
    "name": "ipython",
    "version": 3
   },
   "file_extension": ".py",
   "mimetype": "text/x-python",
   "name": "python",
   "nbconvert_exporter": "python",
   "pygments_lexer": "ipython3",
   "version": "3.11.1"
  }
 },
 "nbformat": 4,
 "nbformat_minor": 1
}
