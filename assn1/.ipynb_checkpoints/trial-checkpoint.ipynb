{
 "cells": [
  {
   "cell_type": "code",
   "execution_count": 1,
   "metadata": {},
   "outputs": [],
   "source": [
    "import numpy as np\n",
    "import time\n",
    "from sklearn.svm import LinearSVC\n",
    "from collections import defaultdict\n",
    "from sklearn.linear_model import LogisticRegression"
   ]
  },
  {
   "cell_type": "code",
   "execution_count": 2,
   "metadata": {},
   "outputs": [
    {
     "name": "stdout",
     "output_type": "stream",
     "text": [
      "(60000, 73)\n",
      "(40000, 73)\n"
     ]
    }
   ],
   "source": [
    "train_data = np.loadtxt(\"train.dat\")\n",
    "test_data = np.loadtxt(\"test.dat\")\n",
    "print(train_data.shape)\n",
    "print(test_data.shape)"
   ]
  },
  {
   "cell_type": "code",
   "execution_count": 3,
   "metadata": {},
   "outputs": [
    {
     "data": {
      "text/plain": [
       "array([0., 0., 0., 0., 0., 0., 1., 0., 1., 0., 1., 1., 0., 0., 0., 0., 0.,\n",
       "       1., 0., 0., 0., 1., 0., 1., 0., 0., 1., 1., 1., 0., 1., 1., 0., 0.,\n",
       "       1., 0., 0., 0., 0., 1., 1., 1., 1., 1., 0., 0., 0., 0., 0., 1., 0.,\n",
       "       0., 1., 1., 0., 1., 1., 1., 0., 0., 1., 1., 1., 0., 0., 0., 0., 0.,\n",
       "       0., 0., 1., 0., 1.])"
      ]
     },
     "execution_count": 3,
     "metadata": {},
     "output_type": "execute_result"
    }
   ],
   "source": [
    "train_data[1]"
   ]
  },
  {
   "cell_type": "code",
   "execution_count": 4,
   "metadata": {},
   "outputs": [
    {
     "name": "stdout",
     "output_type": "stream",
     "text": [
      "(60000, 64)\n"
     ]
    }
   ],
   "source": [
    "X = train_data[:,0:64]\n",
    "muxinput1 = train_data[:,64:68]\n",
    "muxinput2 = train_data[:,68:72]\n",
    "y = train_data[:,72]\n",
    "print(X.shape)"
   ]
  },
  {
   "cell_type": "code",
   "execution_count": 5,
   "metadata": {},
   "outputs": [
    {
     "name": "stdout",
     "output_type": "stream",
     "text": [
      "(3, 11, 0)\n",
      "time: 0.0007488999981433153 seconds\n"
     ]
    }
   ],
   "source": [
    "\n",
    "def compare1(a,b):\n",
    "    n1 = 1*a[3] + 2*a[2] + 4*a[1] + 8*a[0]\n",
    "    n2 = 1*b[3] + 2*b[2] + 4*b[1] + 8*b[0]\n",
    "\n",
    "    res = 1 if n1 > n2 else 0\n",
    "    return (n1, n2, res)\n",
    "\n",
    "# def compare2(a, b):\n",
    "#     x_0 = a[0]*b[0] + (1-a[0])*(1-b[0])\n",
    "#     x_1 = a[1]*b[1] + (1-a[1])*(1-b[1])\n",
    "#     x_2 = a[2]*b[2] + (1-a[2])*(1-b[2])\n",
    "#     x_3 = a[3]*b[3] + (1-a[3])*(1-b[3])\n",
    "\n",
    "#     greater = 1 if (a[3]*(1-b[3]) + x_3*a[2]*(1-b[2]) + x_3*x_2*a[1]*(1-b[1]) + x_3*x_2*x_1*a[0]*(1-b[0])) else 0\n",
    "#     return greater\n",
    "    \n",
    "s1 = time.perf_counter()\n",
    "print(compare1([0,0,1,1],[1,0,1,1]))\n",
    "e1 = time.perf_counter()\n",
    "print(\"time: {} seconds\".format(e1-s1))\n",
    "# s2 = time.perf_counter()\n",
    "# print(compare2([0,0,1,1],[1,0,1,1]))\n",
    "# e2 = time.perf_counter()\n",
    "# print(\"time: {} seconds\".format(e2-s2))\n"
   ]
  },
  {
   "cell_type": "code",
   "execution_count": 8,
   "metadata": {},
   "outputs": [
    {
     "name": "stdout",
     "output_type": "stream",
     "text": [
      "time: 0.7372701168060303 seconds\n"
     ]
    }
   ],
   "source": [
    "model = LinearSVC( loss = \"hinge\") \n",
    "groups = defaultdict(list)\n",
    "outputs = defaultdict(list)\n",
    "models = defaultdict(list)\n",
    "labels = []\n",
    "data = []\n",
    "\n",
    "st = time.time()\n",
    "\n",
    "for e in train_data:\n",
    "    firstSbits = e[64:68]\n",
    "    lastSbits = e[68:72]\n",
    "    labels.append(e[72])\n",
    "    data.append(e[0:64])\n",
    "    i, j, flag = compare1(firstSbits, lastSbits)\n",
    "    m1 = min(int(i), int(j))\n",
    "    m2 = max(int(i), int(j))\n",
    "    groups[\"{}->{}\".format(m1, m2)].append(e[0:64])\n",
    "    outputs[\"{}->{}\".format(m1, m2)].append(e[72])\n",
    "    models[\"{}->{}\".format(m1, m2)] = model\n",
    "\n",
    "print(groups[\"1->12\"])\n",
    "# for key in groups.keys():\n",
    "#     i = np.array(groups[key])\n",
    "#     o = np.array(outputs[key])\n",
    "#     models[key].fit(i,o)\n",
    "#     print(models[key].score(i,o))\n",
    "\n",
    "et = time.time()\n",
    "print(\"time: {} seconds\".format(et-st))\n"
   ]
  },
  {
   "cell_type": "code",
   "execution_count": 7,
   "metadata": {},
   "outputs": [
    {
     "ename": "AttributeError",
     "evalue": "'LinearSVC' object has no attribute 'coef_'",
     "output_type": "error",
     "traceback": [
      "\u001b[1;31m---------------------------------------------------------------------------\u001b[0m",
      "\u001b[1;31mAttributeError\u001b[0m                            Traceback (most recent call last)",
      "Cell \u001b[1;32mIn[7], line 2\u001b[0m\n\u001b[0;32m      1\u001b[0m \u001b[38;5;28;01mfor\u001b[39;00m i \u001b[38;5;129;01min\u001b[39;00m models\u001b[38;5;241m.\u001b[39mkeys():\n\u001b[1;32m----> 2\u001b[0m     \u001b[38;5;28mprint\u001b[39m(\u001b[43mmodels\u001b[49m\u001b[43m[\u001b[49m\u001b[43mi\u001b[49m\u001b[43m]\u001b[49m\u001b[38;5;241;43m.\u001b[39;49m\u001b[43mcoef_\u001b[49m)\n",
      "\u001b[1;31mAttributeError\u001b[0m: 'LinearSVC' object has no attribute 'coef_'"
     ]
    }
   ],
   "source": [
    "for i in models.keys():\n",
    "    print(models[i].coef_)"
   ]
  },
  {
   "cell_type": "code",
   "execution_count": null,
   "metadata": {},
   "outputs": [],
   "source": [
    "st = time.time()\n",
    "\n",
    "testgroups = defaultdict(list)\n",
    "testoutputs = defaultdict(list)\n",
    "\n",
    "for e in test_data:\n",
    "    firstSbits = e[64:68]\n",
    "    lastSbits = e[68:72]\n",
    "    labels.append(e[72])\n",
    "    data.append(e[0:64])\n",
    "    i, j, flag = compare1(firstSbits, lastSbits)\n",
    "    m1 = min(int(i), int(j))\n",
    "    m2 = max(int(i), int(j))\n",
    "    testgroups[\"{}->{}\".format(m1, m2)].append(e[0:64])\n",
    "    testoutputs[\"{}->{}\".format(m1, m2)].append(e[72])\n",
    "\n",
    "for key in groups.keys():\n",
    "    i = np.array(testgroups[key])\n",
    "    o = np.array(testoutputs[key])\n",
    "    # models[key].fit(i,o)\n",
    "    print(models[key].score(i,o))\n",
    "    "
   ]
  },
  {
   "cell_type": "code",
   "execution_count": null,
   "metadata": {},
   "outputs": [],
   "source": []
  }
 ],
 "metadata": {
  "kernelspec": {
   "display_name": "Python 3 (ipykernel)",
   "language": "python",
   "name": "python3"
  },
  "language_info": {
   "codemirror_mode": {
    "name": "ipython",
    "version": 3
   },
   "file_extension": ".py",
   "mimetype": "text/x-python",
   "name": "python",
   "nbconvert_exporter": "python",
   "pygments_lexer": "ipython3",
   "version": "3.11.1"
  },
  "vscode": {
   "interpreter": {
    "hash": "81794d4967e6c3204c66dcd87b604927b115b27c00565d3d43f05ba2f3a2cb0d"
   }
  }
 },
 "nbformat": 4,
 "nbformat_minor": 2
}
