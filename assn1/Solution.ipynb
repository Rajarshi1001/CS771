{
 "cells": [
  {
   "cell_type": "code",
   "execution_count": null,
   "id": "d2603cae",
   "metadata": {},
   "outputs": [],
   "source": [
    "%load_ext autoreload\n",
    "%autoreload 2"
   ]
  },
  {
   "cell_type": "code",
   "execution_count": null,
   "id": "b5124804",
   "metadata": {},
   "outputs": [],
   "source": [
    "import numpy as np\n",
    "from sklearn.model_selection import train_test_split\n",
    "import sklearn\n",
    "from sklearn.svm import LinearSVC"
   ]
  },
  {
   "cell_type": "code",
   "execution_count": null,
   "id": "a5046d5a",
   "metadata": {},
   "outputs": [],
   "source": [
    "data = np.loadtxt( \"train.dat\" )\n",
    "data.shape\n",
    "\n",
    "data2 = []*16\n",
    "len(data2)"
   ]
  },
  {
   "cell_type": "code",
   "execution_count": null,
   "id": "cfb41f90",
   "metadata": {},
   "outputs": [],
   "source": [
    "def remove(X,i):\n",
    "    return np.delete(X, slice((72-i),72),0)"
   ]
  },
  {
   "cell_type": "code",
   "execution_count": null,
   "id": "91f94a05",
   "metadata": {},
   "outputs": [],
   "source": [
    "def bin2dec(Y):\n",
    "    return (8*Y[0]+4*Y[1]+2*Y[2]+Y[3])"
   ]
  },
  {
   "cell_type": "code",
   "execution_count": null,
   "id": "a531ed7f",
   "metadata": {},
   "outputs": [],
   "source": [
    "def swap(X):\n",
    "    c = X[64]\n",
    "    X[64] = X[65]\n",
    "    X[65] = c\n",
    "    X[72] = 1 - X[72]"
   ]
  },
  {
   "cell_type": "code",
   "execution_count": null,
   "id": "3180c280",
   "metadata": {},
   "outputs": [],
   "source": [
    "print(int(bin2dec([0,1,0,0])))"
   ]
  },
  {
   "cell_type": "code",
   "execution_count": null,
   "id": "c4a2eff4",
   "metadata": {},
   "outputs": [],
   "source": [
    "# Can be vectorized\n",
    "for i in range(60000):\n",
    "    x = 0\n",
    "    y = 1\n",
    "    \n",
    "    data2[int(x+y)].append(data[i])"
   ]
  },
  {
   "cell_type": "code",
   "execution_count": null,
   "id": "878cf823",
   "metadata": {},
   "outputs": [],
   "source": [
    "for i in range(16):\n",
    "    for j in range(i+1,16):\n",
    "        print(np.array(data2[i][j]).shape)"
   ]
  },
  {
   "cell_type": "code",
   "execution_count": null,
   "id": "8e65c857",
   "metadata": {},
   "outputs": [],
   "source": [
    "def createFeatures( X ):\n",
    "    return X\n",
    "# Using inappropriate features will render the linear model useless\n",
    "# For example try the following features\n",
    "# Original 0/1 challenge vectors:\n",
    "#     return X\n",
    "# Signed 0/1 challenge vectors:\n",
    "#     return 1 - 2 * X\n",
    "# Forward cumulative product on signed challenge vectors:\n",
    "#     return np.cumprod( np.flip( 1 - 2 * X, axis = 1 ), axis = 1 )"
   ]
  },
  {
   "cell_type": "code",
   "execution_count": null,
   "id": "8d06258a",
   "metadata": {},
   "outputs": [],
   "source": [
    "data_trn, data_tst = train_test_split( data2[1][3], train_size = 450 )\n",
    "\n",
    "# Insufficient training data can lead to low accuracy\n",
    "# Try using train_size = 30000 or 3000 or 300 or 30\n",
    "\n",
    "clf = LinearSVC( loss = \"hinge\" )\n",
    "clf.fit( createFeatures( data_trn[:,:-1] ), data_trn[:,-1] )\n",
    "np.average( data_tst[:,-1] == clf.predict( createFeatures( data_tst[:,:-1] ) ) )"
   ]
  },
  {
   "cell_type": "code",
   "execution_count": null,
   "id": "e904ee92",
   "metadata": {},
   "outputs": [],
   "source": []
  }
 ],
 "metadata": {
  "author": {
   "email": "purushot@cse.iitk.ac.in",
   "institution": "IIT Kanpur",
   "name": "Puru"
  },
  "kernelspec": {
   "display_name": "Python 3",
   "language": "python",
   "name": "python3"
  },
  "language_info": {
   "codemirror_mode": {
    "name": "ipython",
    "version": 3
   },
   "file_extension": ".py",
   "mimetype": "text/x-python",
   "name": "python",
   "nbconvert_exporter": "python",
   "pygments_lexer": "ipython3",
   "version": "3.9.5"
  },
  "vscode": {
   "interpreter": {
    "hash": "81794d4967e6c3204c66dcd87b604927b115b27c00565d3d43f05ba2f3a2cb0d"
   }
  }
 },
 "nbformat": 4,
 "nbformat_minor": 5
}
