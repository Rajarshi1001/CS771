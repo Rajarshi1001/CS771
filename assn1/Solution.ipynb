{
 "cells": [
  {
   "cell_type": "code",
   "execution_count": 1,
   "id": "d2603cae",
   "metadata": {},
   "outputs": [],
   "source": [
    "%load_ext autoreload\n",
    "%autoreload 2"
   ]
  },
  {
   "cell_type": "code",
   "execution_count": 2,
   "id": "b5124804",
   "metadata": {},
   "outputs": [],
   "source": [
    "import numpy as np\n",
    "from sklearn.model_selection import train_test_split\n",
    "import sklearn\n",
    "from sklearn.svm import LinearSVC"
   ]
  },
  {
   "cell_type": "code",
   "execution_count": 3,
   "id": "a5046d5a",
   "metadata": {},
   "outputs": [],
   "source": [
    "data = np.loadtxt( \"train.dat\" )\n",
    "data.shape\n",
    "\n",
    "data2 = [[[]]*16]*16"
   ]
  },
  {
   "cell_type": "code",
   "execution_count": 4,
   "id": "cfb41f90",
   "metadata": {},
   "outputs": [],
   "source": [
    "def remove(X,i):\n",
    "    return np.delete(X, slice((72-i),72),0)"
   ]
  },
  {
   "cell_type": "code",
   "execution_count": 5,
   "id": "91f94a05",
   "metadata": {},
   "outputs": [],
   "source": [
    "def bin2dec(Y):\n",
    "    return (8*Y[0]+4*Y[1]+2*Y[2]+Y[3])"
   ]
  },
  {
   "cell_type": "code",
   "execution_count": 6,
   "id": "a531ed7f",
   "metadata": {},
   "outputs": [],
   "source": [
    "def swap(X):\n",
    "    c = X[64]\n",
    "    X[64] = X[68]\n",
    "    X[68] = c\n",
    "    X[72] = 1 - X[72]"
   ]
  },
  {
   "cell_type": "code",
   "execution_count": 7,
   "id": "c4a2eff4",
   "metadata": {},
   "outputs": [],
   "source": [
    "# Can be vectorized\n",
    "for i in range(60000):\n",
    "    x = bin2dec(data[i][64:68])\n",
    "    y = bin2dec(data[i][68:72])\n",
    "    data[i][64] = int(x)\n",
    "    data[i][65] = int(y)\n",
    "    remove(data[i],i)\n",
    "    if(int(x) > int(y)):\n",
    "        swap(data[i])\n",
    "    data2[int(x)][int(y)].append(data[i])\n"
   ]
  },
  {
   "cell_type": "code",
   "execution_count": 8,
   "id": "8e65c857",
   "metadata": {},
   "outputs": [],
   "source": [
    "def createFeatures( X ):\n",
    "    return X\n",
    "# Using inappropriate features will render the linear model useless\n",
    "# For example try the following features\n",
    "# Original 0/1 challenge vectors:\n",
    "#     return X\n",
    "# Signed 0/1 challenge vectors:\n",
    "#     return 1 - 2 * X\n",
    "# Forward cumulative product on signed challenge vectors:\n",
    "#     return np.cumprod( np.flip( 1 - 2 * X, axis = 1 ), axis = 1 )"
   ]
  },
  {
   "cell_type": "code",
   "execution_count": 9,
   "id": "8d06258a",
   "metadata": {},
   "outputs": [
    {
     "ename": "TypeError",
     "evalue": "list indices must be integers or slices, not tuple",
     "output_type": "error",
     "traceback": [
      "\u001b[1;31m---------------------------------------------------------------------------\u001b[0m",
      "\u001b[1;31mTypeError\u001b[0m                                 Traceback (most recent call last)",
      "Cell \u001b[1;32mIn[9], line 7\u001b[0m\n\u001b[0;32m      3\u001b[0m \u001b[38;5;66;03m# Insufficient training data can lead to low accuracy\u001b[39;00m\n\u001b[0;32m      4\u001b[0m \u001b[38;5;66;03m# Try using train_size = 30000 or 3000 or 300 or 30\u001b[39;00m\n\u001b[0;32m      6\u001b[0m clf \u001b[38;5;241m=\u001b[39m LinearSVC( loss \u001b[38;5;241m=\u001b[39m \u001b[38;5;124m\"\u001b[39m\u001b[38;5;124mhinge\u001b[39m\u001b[38;5;124m\"\u001b[39m )\n\u001b[1;32m----> 7\u001b[0m clf\u001b[38;5;241m.\u001b[39mfit( createFeatures( \u001b[43mdata_trn\u001b[49m\u001b[43m[\u001b[49m\u001b[43m:\u001b[49m\u001b[43m,\u001b[49m\u001b[43m:\u001b[49m\u001b[38;5;241;43m-\u001b[39;49m\u001b[38;5;241;43m1\u001b[39;49m\u001b[43m]\u001b[49m ), data_trn[:,\u001b[38;5;241m-\u001b[39m\u001b[38;5;241m1\u001b[39m] )\n\u001b[0;32m      8\u001b[0m np\u001b[38;5;241m.\u001b[39maverage( data_tst[:,\u001b[38;5;241m-\u001b[39m\u001b[38;5;241m1\u001b[39m] \u001b[38;5;241m==\u001b[39m clf\u001b[38;5;241m.\u001b[39mpredict( createFeatures( data_tst[:,:\u001b[38;5;241m-\u001b[39m\u001b[38;5;241m1\u001b[39m] ) ) )\n",
      "\u001b[1;31mTypeError\u001b[0m: list indices must be integers or slices, not tuple"
     ]
    }
   ],
   "source": [
    "data_trn, data_tst = train_test_split( data2[1][3], train_size = 450 )\n",
    "\n",
    "# Insufficient training data can lead to low accuracy\n",
    "# Try using train_size = 30000 or 3000 or 300 or 30\n",
    "\n",
    "clf = LinearSVC( loss = \"hinge\" )\n",
    "clf.fit( createFeatures( data_trn[:,:-1] ), data_trn[:,-1] )\n",
    "np.average( data_tst[:,-1] == clf.predict( createFeatures( data_tst[:,:-1] ) ) )"
   ]
  },
  {
   "cell_type": "code",
   "execution_count": null,
   "id": "e904ee92",
   "metadata": {},
   "outputs": [],
   "source": []
  }
 ],
 "metadata": {
  "author": {
   "email": "purushot@cse.iitk.ac.in",
   "institution": "IIT Kanpur",
   "name": "Puru"
  },
  "kernelspec": {
   "display_name": "Python 3 (ipykernel)",
   "language": "python",
   "name": "python3"
  },
  "language_info": {
   "codemirror_mode": {
    "name": "ipython",
    "version": 3
   },
   "file_extension": ".py",
   "mimetype": "text/x-python",
   "name": "python",
   "nbconvert_exporter": "python",
   "pygments_lexer": "ipython3",
   "version": "3.11.1"
  }
 },
 "nbformat": 4,
 "nbformat_minor": 5
}
